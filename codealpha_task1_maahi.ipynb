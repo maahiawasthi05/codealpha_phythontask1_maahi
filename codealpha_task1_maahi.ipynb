{
 "cells": [
  {
   "cell_type": "code",
   "execution_count": null,
   "metadata": {},
   "outputs": [],
   "source": [
    "import random\n",
    "\n",
    "# Just a handful of words to keep the game fresh\n",
    "words = ['python', 'hangman', 'programming', 'computer', 'algorithm', 'variable', 'keyboard']\n",
    "\n",
    "# Let's grab one word randomly to start\n",
    "secret_word = random.choice(words)\n",
    "letters_to_guess = set(secret_word)  # We'll use this to track remaining letters\n",
    "guessed = set()                      # What the player has already guessed\n",
    "misses = set()\n",
    "tries_left = 6\n",
    "\n",
    "print(\"Welcome to a very rough version of Hangman :)\")\n",
    "print(\" \".join([\"_\"] * len(secret_word)))  # Just placeholders for now\n",
    "\n",
    "# Game loop starts here\n",
    "while tries_left > 0 and letters_to_guess != guessed:\n",
    "    print(\"\\nMissed letters so far:\", \" \".join(sorted(misses)))\n",
    "    print(\"Word so far:\", \" \".join([ch if ch in guessed else '_' for ch in secret_word]))\n",
    "\n",
    "    user_input = input(\"Your guess (just one letter): \").strip().lower()\n",
    "\n",
    "    if not user_input.isalpha() or len(user_input) != 1:\n",
    "        print(\"Hmm, that doesn't look like a valid letter. Try again.\")\n",
    "        continue\n",
    "\n",
    "    if user_input in guessed or user_input in misses:\n",
    "        print(\"Already tried that one. Memory check! 🧠\")\n",
    "        continue\n",
    "\n",
    "    if user_input in letters_to_guess:\n",
    "        guessed.add(user_input)\n",
    "        print(f\"Yep, '{user_input}' is in the word!\")\n",
    "    else:\n",
    "        misses.add(user_input)\n",
    "        tries_left -= 1  # Reducing attempts only for wrong guesses\n",
    "        print(f\"Nope! '{user_input}' is a miss. {tries_left} tries left.\")\n",
    "\n",
    "# Wrapping up with a win or loss\n",
    "if letters_to_guess == guessed:\n",
    "    print(\"\\n👏 You nailed it! The word was:\", secret_word)\n",
    "else:\n",
    "    print(\"\\n😞 Better luck next time! The word was:\", secret_word)"
   ]
  }
 ],
 "metadata": {
  "language_info": {
   "name": "python"
  }
 },
 "nbformat": 4,
 "nbformat_minor": 2
}
